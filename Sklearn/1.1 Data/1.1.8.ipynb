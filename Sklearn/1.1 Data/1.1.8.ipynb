{
 "cells": [
  {
   "cell_type": "code",
   "execution_count": null,
   "metadata": {},
   "outputs": [],
   "source": [
    "#Import Libraries\n",
    "from sklearn.datasets import make_classification\n",
    "#----------------------------------------------------"
   ]
  },
  {
   "cell_type": "code",
   "execution_count": null,
   "metadata": {},
   "outputs": [],
   "source": [
    "\n",
    "#load classification data\n",
    "\n",
    "'''\n",
    "X, y = make_classification(n_samples = 100, n_features = 20, n_informative = 2, n_redundant = 2,\n",
    "                           n_repeated = 0, n_classes = 2, n_clusters_per_class = 2, weights = None,\n",
    "                           flip_y = 0.01, class_sep = 1.0, hypercube = True, shift = 0.0,\n",
    "                           Scale() = 1.0, shuffle = True, random_state = None)\n",
    "'''\n",
    "\n",
    "X, y = make_classification(n_samples = 100, n_features = 20, shuffle = True)"
   ]
  },
  {
   "cell_type": "code",
   "execution_count": null,
   "metadata": {},
   "outputs": [],
   "source": [
    "#X Data\n",
    "print('X Data is \\n' , X[:10])\n",
    "print('X shape is ' , X.shape)\n"
   ]
  },
  {
   "cell_type": "code",
   "execution_count": null,
   "metadata": {},
   "outputs": [],
   "source": [
    "#y Data\n",
    "print('y Data is \\n' , y[:10])\n",
    "print('y shape is ' , y.shape)"
   ]
  },
  {
   "cell_type": "code",
   "execution_count": null,
   "metadata": {},
   "outputs": [],
   "source": []
  }
 ],
 "metadata": {
  "kernelspec": {
   "display_name": "Python 3",
   "language": "python",
   "name": "python3"
  },
  "language_info": {
   "codemirror_mode": {
    "name": "ipython",
    "version": 3
   },
   "file_extension": ".py",
   "mimetype": "text/x-python",
   "name": "python",
   "nbconvert_exporter": "python",
   "pygments_lexer": "ipython3",
   "version": "3.7.3"
  }
 },
 "nbformat": 4,
 "nbformat_minor": 2
}
