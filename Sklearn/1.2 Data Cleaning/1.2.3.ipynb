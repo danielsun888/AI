{
 "cells": [
  {
   "cell_type": "code",
   "execution_count": 1,
   "metadata": {},
   "outputs": [],
   "source": [
    "import numpy as np\n",
    "\n",
    "from sklearn.impute import SimpleImputer\n",
    "\n",
    "data = [[1,2,np.nan],\n",
    "        [3,np.nan,1],\n",
    "        [5,np.nan,0],\n",
    "        [np.nan,4,6 ],\n",
    "        [5,0,np.nan],\n",
    "        [4,5,5]]"
   ]
  },
  {
   "cell_type": "code",
   "execution_count": 2,
   "metadata": {},
   "outputs": [
    {
     "name": "stdout",
     "output_type": "stream",
     "text": [
      "[[1.   2.   3.  ]\n",
      " [3.   2.75 1.  ]\n",
      " [5.   2.75 0.  ]\n",
      " [3.6  4.   6.  ]\n",
      " [5.   0.   3.  ]\n",
      " [4.   5.   5.  ]]\n"
     ]
    }
   ],
   "source": [
    "imp = SimpleImputer(missing_values=np.nan, strategy='mean')\n",
    "imp = imp.fit(data)\n",
    "\n",
    "\n",
    "modifieddata = imp.transform(data)\n",
    "print(modifieddata)"
   ]
  }
 ],
 "metadata": {
  "kernelspec": {
   "display_name": "Python 3",
   "language": "python",
   "name": "python3"
  },
  "language_info": {
   "codemirror_mode": {
    "name": "ipython",
    "version": 3
   },
   "file_extension": ".py",
   "mimetype": "text/x-python",
   "name": "python",
   "nbconvert_exporter": "python",
   "pygments_lexer": "ipython3",
   "version": "3.8.5"
  }
 },
 "nbformat": 4,
 "nbformat_minor": 2
}
