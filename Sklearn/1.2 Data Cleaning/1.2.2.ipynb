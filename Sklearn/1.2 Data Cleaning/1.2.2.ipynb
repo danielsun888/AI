{
 "cells": [
  {
   "cell_type": "code",
   "execution_count": null,
   "metadata": {},
   "outputs": [],
   "source": [
    "# Import Libraries\n",
    "from sklearn.datasets import load_breast_cancer\n",
    "from sklearn.impute import SimpleImputer\n",
    "import numpy as np\n",
    "#----------------------------------------------------\n",
    "\n",
    "#load breast cancer data\n",
    "\n",
    "BreastData = load_breast_cancer()\n",
    "\n",
    "#X Data\n",
    "X = BreastData.data\n",
    "\n",
    "#y Data\n",
    "y = BreastData.target\n"
   ]
  },
  {
   "cell_type": "code",
   "execution_count": null,
   "metadata": {},
   "outputs": [],
   "source": [
    "\n",
    "#----------------------------------------------------\n",
    "# Cleaning data\n",
    "\n",
    "'''\n",
    "impute.SimpleImputer(missing_values=nan, strategy='mean’, fill_value=None, verbose=0, copy=True)\n",
    "'''\n",
    "\n",
    "\n",
    "ImputedModule = SimpleImputer(missing_values = np.nan, strategy ='mean')\n",
    "ImputedX = ImputedModule.fit(X)\n",
    "X = ImputedX.transform(X)\n",
    "\n",
    "\n",
    "#X Data\n",
    "print('X Data is \\n' , X[:10])\n",
    "\n",
    "#y Data\n",
    "print('y Data is \\n' , y[:10])"
   ]
  }
 ],
 "metadata": {
  "kernelspec": {
   "display_name": "Python 3",
   "language": "python",
   "name": "python3"
  },
  "language_info": {
   "codemirror_mode": {
    "name": "ipython",
    "version": 3
   },
   "file_extension": ".py",
   "mimetype": "text/x-python",
   "name": "python",
   "nbconvert_exporter": "python",
   "pygments_lexer": "ipython3",
   "version": "3.7.3"
  }
 },
 "nbformat": 4,
 "nbformat_minor": 2
}
