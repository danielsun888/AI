{
 "cells": [
  {
   "cell_type": "code",
   "execution_count": 90,
   "id": "220d41eb",
   "metadata": {},
   "outputs": [
    {
     "name": "stdout",
     "output_type": "stream",
     "text": [
      "(442, 10)\n",
      "(442,)\n",
      "['DESCR', 'data', 'data_filename', 'data_module', 'feature_names', 'frame', 'target', 'target_filename']\n",
      "['age', 'sex', 'bmi', 'bp', 's1', 's2', 's3', 's4', 's5', 's6']\n",
      "          age       sex       bmi        bp        s1        s2        s3  \\\n",
      "0    0.038076  0.050680  0.061696  0.021872 -0.044223 -0.034821 -0.043401   \n",
      "1   -0.001882 -0.044642 -0.051474 -0.026328 -0.008449 -0.019163  0.074412   \n",
      "2    0.085299  0.050680  0.044451 -0.005670 -0.045599 -0.034194 -0.032356   \n",
      "3   -0.089063 -0.044642 -0.011595 -0.036656  0.012191  0.024991 -0.036038   \n",
      "4    0.005383 -0.044642 -0.036385  0.021872  0.003935  0.015596  0.008142   \n",
      "..        ...       ...       ...       ...       ...       ...       ...   \n",
      "437  0.041708  0.050680  0.019662  0.059744 -0.005697 -0.002566 -0.028674   \n",
      "438 -0.005515  0.050680 -0.015906 -0.067642  0.049341  0.079165 -0.028674   \n",
      "439  0.041708  0.050680 -0.015906  0.017293 -0.037344 -0.013840 -0.024993   \n",
      "440 -0.045472 -0.044642  0.039062  0.001215  0.016318  0.015283 -0.028674   \n",
      "441 -0.045472 -0.044642 -0.073030 -0.081413  0.083740  0.027809  0.173816   \n",
      "\n",
      "           s4        s5        s6  \n",
      "0   -0.002592  0.019907 -0.017646  \n",
      "1   -0.039493 -0.068332 -0.092204  \n",
      "2   -0.002592  0.002861 -0.025930  \n",
      "3    0.034309  0.022688 -0.009362  \n",
      "4   -0.002592 -0.031988 -0.046641  \n",
      "..        ...       ...       ...  \n",
      "437 -0.002592  0.031193  0.007207  \n",
      "438  0.034309 -0.018114  0.044485  \n",
      "439 -0.011080 -0.046883  0.015491  \n",
      "440  0.026560  0.044529 -0.025930  \n",
      "441 -0.039493 -0.004222  0.003064  \n",
      "\n",
      "[442 rows x 10 columns]\n"
     ]
    }
   ],
   "source": [
    "from sklearn.datasets import load_diabetes\n",
    "import pandas as pd\n",
    "diabetes=load_diabetes()\n",
    "\n",
    "df_X = diabetes.data\n",
    "df_y = diabetes.target\n",
    "print(df_X.shape)\n",
    "print(df_y.shape)\n",
    "\n",
    "print(dir(diabetes))\n",
    "print(diabetes.feature_names)\n",
    "\n",
    "data=pd.DataFrame(df_X,columns=diabetes.feature_names)\n",
    "print(data)\n",
    "\n",
    "# (3) train, test 데이터 분리"
   ]
  },
  {
   "cell_type": "code",
   "execution_count": 91,
   "id": "abc52710",
   "metadata": {},
   "outputs": [
    {
     "name": "stdout",
     "output_type": "stream",
     "text": [
      "(353, 10)\n",
      "(89, 10)\n"
     ]
    }
   ],
   "source": [
    "from sklearn.model_selection import train_test_split\n",
    "\n",
    "X_train, X_test, y_train, y_test = train_test_split(df_X, \n",
    "                                                    df_y, \n",
    "                                                    test_size=0.2, \n",
    "                                                    random_state=7)\n",
    "print(X_train.shape)\n",
    "print(X_test.shape)"
   ]
  },
  {
   "cell_type": "code",
   "execution_count": 92,
   "id": "ca5a1c58",
   "metadata": {},
   "outputs": [],
   "source": [
    "\n",
    "# from sklearn.linear_model import LinearRegression\n",
    "# clf = LinearRegression()\n",
    "# clf.fit(X_train, y_train)\n",
    "# print('train score',clf.score(X_train, y_train))\n",
    "# print(clf.score(X_test, y_test))\n",
    "\n",
    "# y_pred = clf.predict(X_test)\n",
    "\n",
    "# print(y_pred)"
   ]
  },
  {
   "cell_type": "markdown",
   "id": "e75407e6",
   "metadata": {},
   "source": [
    "(5) 모델 준비하기\n",
    "입력 데이터 개수에 맞는 가중치 W와 b를 준비해주세요.\n",
    "모델 함수를 구현해주세요.\n"
   ]
  },
  {
   "cell_type": "code",
   "execution_count": 93,
   "id": "fa25bd52",
   "metadata": {},
   "outputs": [],
   "source": [
    "\n",
    "def model(X, W, b):\n",
    "    predictions = 0\n",
    "    for i in range(10):\n",
    "        predictions += X[:, i] * W[i]\n",
    "    predictions += b\n",
    "    return predictions\n",
    "\n",
    "\n"
   ]
  },
  {
   "cell_type": "markdown",
   "id": "84f516ff",
   "metadata": {},
   "source": [
    "\n",
    "(6) 손실함수 loss 정의하기\n",
    "손실함수를 MSE 함수로 정의해주세요.\n"
   ]
  },
  {
   "cell_type": "code",
   "execution_count": 94,
   "id": "1776f699",
   "metadata": {},
   "outputs": [],
   "source": [
    "def MSE(a, b):\n",
    "    mse = ((a - b) ** 2).mean()  # 두 값의 차이의 제곱의 평균\n",
    "    return mse\n",
    "\n",
    "def loss(X, W, b, y):\n",
    "    predictions = model(X, W, b)\n",
    "    L = MSE(predictions, y)\n",
    "    return L\n"
   ]
  },
  {
   "cell_type": "markdown",
   "id": "3e10ca60",
   "metadata": {},
   "source": [
    "\n",
    "(7) 기울기를 구하는 gradient 함수 구현하기\n",
    "기울기를 계산하는 gradient 함수를 구현해주세요."
   ]
  },
  {
   "cell_type": "code",
   "execution_count": 95,
   "id": "bbd00686",
   "metadata": {},
   "outputs": [],
   "source": [
    "\n",
    "\n",
    "def gradient(X, W, b, y):\n",
    "    # N은 가중치의 개수\n",
    "    N = len(W)\n",
    "    \n",
    "    # y_pred 준비\n",
    "    y_pred = model(X, W, b)\n",
    "    \n",
    "    # 공식에 맞게 gradient 계산\n",
    "    dW = 1/N * 2 * X.T.dot(y_pred - y)\n",
    "        \n",
    "    # b의 gradient 계산\n",
    "    db = 2 * (y_pred - y).mean()\n",
    "    return dW, db\n",
    "\n",
    "# dW, db = gradient(X, W, b, y)\n",
    "# print(\"dW:\", dW)\n",
    "# print(\"db:\", db)"
   ]
  },
  {
   "cell_type": "markdown",
   "id": "37e20a8e",
   "metadata": {},
   "source": [
    "\n",
    "(8) 하이퍼 파라미터인 학습률 설정하기\n",
    "학습률, learning rate 를 설정해주세요\n",
    "만약 학습이 잘 되지 않는다면 learning rate 값을 한번 여러 가지로 설정하며 실험해 보세요."
   ]
  },
  {
   "cell_type": "code",
   "execution_count": 103,
   "id": "2626af25",
   "metadata": {},
   "outputs": [],
   "source": [
    "LEARNING_RATE = 0.02"
   ]
  },
  {
   "cell_type": "markdown",
   "id": "c1c2576f",
   "metadata": {},
   "source": [
    "\n",
    "(9) 모델 학습하기\n",
    "정의된 손실함수와 기울기 함수로 모델을 학습해주세요.\n",
    "loss값이 충분히 떨어질 때까지 학습을 진행해주세요.\n",
    "입력하는 데이터인 X에 들어가는 특성 컬럼들을 몇 개 빼도 괜찮습니다. 다양한 데이터로 실험해 보세요.\n"
   ]
  },
  {
   "cell_type": "code",
   "execution_count": 97,
   "id": "37780ce7",
   "metadata": {},
   "outputs": [],
   "source": [
    "import numpy as np\n",
    "W = np.random.rand(10)\n",
    "b = np.random.rand()"
   ]
  },
  {
   "cell_type": "code",
   "execution_count": 98,
   "id": "83ad054d",
   "metadata": {},
   "outputs": [
    {
     "name": "stdout",
     "output_type": "stream",
     "text": [
      "Iteration 10 : Loss 25222.9996\n",
      "Iteration 20 : Loss 21580.6551\n",
      "Iteration 30 : Loss 18584.8678\n",
      "Iteration 40 : Loss 16118.8024\n",
      "Iteration 50 : Loss 14086.8446\n",
      "Iteration 60 : Loss 12410.7403\n",
      "Iteration 70 : Loss 11026.4370\n",
      "Iteration 80 : Loss 9881.5012\n",
      "Iteration 90 : Loss 8933.0051\n",
      "Iteration 100 : Loss 8145.7982\n",
      "Iteration 110 : Loss 7491.0936\n",
      "Iteration 120 : Loss 6945.3116\n",
      "Iteration 130 : Loss 6489.1337\n",
      "Iteration 140 : Loss 6106.7284\n",
      "Iteration 150 : Loss 5785.1182\n",
      "Iteration 160 : Loss 5513.6622\n",
      "Iteration 170 : Loss 5283.6314\n",
      "Iteration 180 : Loss 5087.8630\n",
      "Iteration 190 : Loss 4920.4760\n",
      "Iteration 200 : Loss 4776.6396\n",
      "Iteration 210 : Loss 4652.3832\n",
      "Iteration 220 : Loss 4544.4408\n",
      "Iteration 230 : Loss 4450.1239\n",
      "Iteration 240 : Loss 4367.2175\n",
      "Iteration 250 : Loss 4293.8948\n",
      "Iteration 260 : Loss 4228.6476\n",
      "Iteration 270 : Loss 4170.2287\n",
      "Iteration 280 : Loss 4117.6060\n",
      "Iteration 290 : Loss 4069.9231\n",
      "Iteration 300 : Loss 4026.4691\n",
      "Iteration 310 : Loss 3986.6517\n",
      "Iteration 320 : Loss 3949.9773\n",
      "Iteration 330 : Loss 3916.0326\n",
      "Iteration 340 : Loss 3884.4714\n",
      "Iteration 350 : Loss 3855.0023\n",
      "Iteration 360 : Loss 3827.3796\n",
      "Iteration 370 : Loss 3801.3951\n",
      "Iteration 380 : Loss 3776.8720\n",
      "Iteration 390 : Loss 3753.6595\n",
      "Iteration 400 : Loss 3731.6282\n",
      "Iteration 410 : Loss 3710.6669\n",
      "Iteration 420 : Loss 3690.6794\n",
      "Iteration 430 : Loss 3671.5821\n",
      "Iteration 440 : Loss 3653.3022\n",
      "Iteration 450 : Loss 3635.7758\n",
      "Iteration 460 : Loss 3618.9463\n",
      "Iteration 470 : Loss 3602.7639\n",
      "Iteration 480 : Loss 3587.1842\n",
      "Iteration 490 : Loss 3572.1673\n",
      "Iteration 500 : Loss 3557.6777\n",
      "Iteration 510 : Loss 3543.6830\n",
      "Iteration 520 : Loss 3530.1541\n",
      "Iteration 530 : Loss 3517.0645\n",
      "Iteration 540 : Loss 3504.3898\n",
      "Iteration 550 : Loss 3492.1080\n",
      "Iteration 560 : Loss 3480.1984\n",
      "Iteration 570 : Loss 3468.6424\n",
      "Iteration 580 : Loss 3457.4225\n",
      "Iteration 590 : Loss 3446.5226\n",
      "Iteration 600 : Loss 3435.9276\n",
      "Iteration 610 : Loss 3425.6237\n",
      "Iteration 620 : Loss 3415.5977\n",
      "Iteration 630 : Loss 3405.8375\n",
      "Iteration 640 : Loss 3396.3317\n",
      "Iteration 650 : Loss 3387.0696\n",
      "Iteration 660 : Loss 3378.0411\n",
      "Iteration 670 : Loss 3369.2369\n",
      "Iteration 680 : Loss 3360.6480\n",
      "Iteration 690 : Loss 3352.2660\n",
      "Iteration 700 : Loss 3344.0831\n",
      "Iteration 710 : Loss 3336.0917\n",
      "Iteration 720 : Loss 3328.2849\n",
      "Iteration 730 : Loss 3320.6560\n",
      "Iteration 740 : Loss 3313.1985\n",
      "Iteration 750 : Loss 3305.9067\n",
      "Iteration 760 : Loss 3298.7746\n",
      "Iteration 770 : Loss 3291.7971\n",
      "Iteration 780 : Loss 3284.9689\n",
      "Iteration 790 : Loss 3278.2852\n",
      "Iteration 800 : Loss 3271.7413\n",
      "Iteration 810 : Loss 3265.3329\n",
      "Iteration 820 : Loss 3259.0558\n",
      "Iteration 830 : Loss 3252.9059\n",
      "Iteration 840 : Loss 3246.8795\n",
      "Iteration 850 : Loss 3240.9728\n",
      "Iteration 860 : Loss 3235.1825\n",
      "Iteration 870 : Loss 3229.5051\n",
      "Iteration 880 : Loss 3223.9376\n",
      "Iteration 890 : Loss 3218.4769\n",
      "Iteration 900 : Loss 3213.1201\n",
      "Iteration 910 : Loss 3207.8643\n",
      "Iteration 920 : Loss 3202.7069\n",
      "Iteration 930 : Loss 3197.6455\n",
      "Iteration 940 : Loss 3192.6774\n",
      "Iteration 950 : Loss 3187.8003\n",
      "Iteration 960 : Loss 3183.0120\n",
      "Iteration 970 : Loss 3178.3102\n",
      "Iteration 980 : Loss 3173.6929\n",
      "Iteration 990 : Loss 3169.1581\n",
      "Iteration 1000 : Loss 3164.7038\n"
     ]
    }
   ],
   "source": [
    "losses = []\n",
    "\n",
    "for i in range(1, 1001):\n",
    "    dW, db = gradient(X_train, W, b, y_train)\n",
    "    W -= LEARNING_RATE * dW\n",
    "    b -= LEARNING_RATE * db\n",
    "    L = loss(X_train, W, b, y_train)\n",
    "    losses.append(L)\n",
    "    if i % 10 == 0:\n",
    "        print('Iteration %d : Loss %0.4f' % (i, L))"
   ]
  },
  {
   "cell_type": "markdown",
   "id": "83c079eb",
   "metadata": {},
   "source": [
    "\n",
    "(10) test 데이터에 대한 성능 확인하기\n",
    "test 데이터에 대한 성능을 확인해주세요."
   ]
  },
  {
   "cell_type": "code",
   "execution_count": 99,
   "id": "bd2d4221",
   "metadata": {},
   "outputs": [
    {
     "data": {
      "image/png": "[encoded data removed]",
      "text/plain": [
       "<Figure size 432x288 with 1 Axes>"
      ]
     },
     "metadata": {
      "needs_background": "light"
     },
     "output_type": "display_data"
    }
   ],
   "source": [
    "import matplotlib.pyplot as plt\n",
    "plt.plot(losses)\n",
    "plt.show()"
   ]
  },
  {
   "cell_type": "code",
   "execution_count": null,
   "id": "389b730c",
   "metadata": {},
   "outputs": [],
   "source": []
  },
  {
   "cell_type": "code",
   "execution_count": 100,
   "id": "a8157ce0",
   "metadata": {},
   "outputs": [
    {
     "data": {
      "text/plain": [
       "2862.975878841352"
      ]
     },
     "execution_count": 100,
     "metadata": {},
     "output_type": "execute_result"
    }
   ],
   "source": [
    "prediction = model(X_test, W, b)\n",
    "mse = loss(X_test, W, b, y_test)\n",
    "mse"
   ]
  },
  {
   "cell_type": "code",
   "execution_count": 101,
   "id": "6b9b1338",
   "metadata": {},
   "outputs": [
    {
     "data": {
      "image/png": "[encoded data removed]",
      "text/plain": [
       "<Figure size 432x288 with 1 Axes>"
      ]
     },
     "metadata": {
      "needs_background": "light"
     },
     "output_type": "display_data"
    }
   ],
   "source": [
    "plt.scatter(X_test[:, 0], y_test,color='red')\n",
    "plt.scatter(X_test[:, 0], prediction,color='blue')\n",
    "plt.show()"
   ]
  }
 ],
 "metadata": {
  "kernelspec": {
   "display_name": "Python 3.9.4 64-bit",
   "language": "python",
   "name": "python3"
  },
  "language_info": {
   "codemirror_mode": {
    "name": "ipython",
    "version": 3
   },
   "file_extension": ".py",
   "mimetype": "text/x-python",
   "name": "python",
   "nbconvert_exporter": "python",
   "pygments_lexer": "ipython3",
   "version": "3.10.1"
  },
  "vscode": {
   "interpreter": {
    "hash": "aee8b7b246df8f9039afb4144a1f6fd8d2ca17a180786b69acc140d282b71a49"
   }
  }
 },
 "nbformat": 4,
 "nbformat_minor": 5
}
