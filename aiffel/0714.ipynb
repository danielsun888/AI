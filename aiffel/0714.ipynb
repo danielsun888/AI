{
 "cells": [
  {
   "cell_type": "code",
   "execution_count": 2,
   "id": "ff741637",
   "metadata": {},
   "outputs": [
    {
     "data": {
      "text/plain": [
       "97"
      ]
     },
     "execution_count": 2,
     "metadata": {},
     "output_type": "execute_result"
    }
   ],
   "source": [
    "ord('a')\n"
   ]
  },
  {
   "cell_type": "code",
   "execution_count": 4,
   "id": "d8fb6407",
   "metadata": {},
   "outputs": [
    {
     "data": {
      "text/plain": [
       "['.DS_Store',\n",
       " 'pandas_exercises',\n",
       " 'test',\n",
       " 'aiffel',\n",
       " 'keras-examples',\n",
       " 'Sklearn',\n",
       " '.gitignore',\n",
       " '.git',\n",
       " 'tensorFlow_tutorials']"
      ]
     },
     "execution_count": 4,
     "metadata": {},
     "output_type": "execute_result"
    }
   ],
   "source": [
    "import os\n",
    "photo = os.listdir('../')\n",
    "photo"
   ]
  },
  {
   "cell_type": "code",
   "execution_count": 5,
   "id": "c230293c",
   "metadata": {},
   "outputs": [
    {
     "data": {
      "text/plain": [
       "'/Users/danielsun'"
      ]
     },
     "execution_count": 5,
     "metadata": {},
     "output_type": "execute_result"
    }
   ],
   "source": [
    "import os \n",
    "  \n",
    "# Get the value of 'HOME' \n",
    "# environment variable \n",
    "key = 'HOME'\n",
    "value = os.getenv(key) \n",
    "  \n",
    "# Print the value of 'HOME' \n",
    "# environment variable \n",
    "value"
   ]
  },
  {
   "cell_type": "code",
   "execution_count": 8,
   "id": "b7a53a06",
   "metadata": {},
   "outputs": [
    {
     "data": {
      "text/plain": [
       "'fundamentals exploration goingdeeper'"
      ]
     },
     "execution_count": 8,
     "metadata": {},
     "output_type": "execute_result"
    }
   ],
   "source": [
    "stages = ['fundamentals', 'exploration', 'goingdeeper']\n",
    "\" \".join(stages)"
   ]
  },
  {
   "cell_type": "code",
   "execution_count": 13,
   "id": "bc191730",
   "metadata": {},
   "outputs": [
    {
     "name": "stdout",
     "output_type": "stream",
     "text": [
      "I fell into AIFFEL\n",
      "140498657033632\n",
      "I fell into AIFFEL\n",
      "140498657033632\n"
     ]
    }
   ],
   "source": [
    "sent = 'I fell into AIFFEL'\n",
    "print(sent)\n",
    "print(id(sent))\n",
    "sent.upper()\n",
    "print(sent)\n",
    "print(id(sent))"
   ]
  },
  {
   "cell_type": "code",
   "execution_count": 14,
   "id": "530df66a",
   "metadata": {},
   "outputs": [
    {
     "name": "stdout",
     "output_type": "stream",
     "text": [
      "I fell into AIFFEL\n",
      "140498657032752\n",
      "I FELL INTO AIFFEL\n",
      "140498657030832\n"
     ]
    }
   ],
   "source": [
    "sent = 'I fell into AIFFEL'\n",
    "print(sent)\n",
    "print(id(sent))\n",
    "sent = sent.upper()\n",
    "print(sent)\n",
    "print(id(sent))"
   ]
  },
  {
   "cell_type": "code",
   "execution_count": 6,
   "id": "5f53b31e",
   "metadata": {},
   "outputs": [
    {
     "name": "stdout",
     "output_type": "stream",
     "text": [
      "위치 : 55\n",
      "['\\n', '안녕하세요.\\n', '반갑습니다.\\n', '오랫만입니다.\\n']\n",
      "----------------------------------------------------\n",
      "위치 : 10\n"
     ]
    }
   ],
   "source": [
    "quotes = [\"\\n안녕하세요.\\n\", \"반갑습니다.\\n\", \"오랫만입니다.\\n\"]\n",
    "\n",
    "with open(\"hello.txt\", \"a\") as f:              # 위에서 만든 파일에 이어서 씁니다. \n",
    "    f.writelines(quotes)\n",
    "    \n",
    "with open('hello.txt', 'r') as f:\n",
    "    hello = f.readlines()\n",
    "    print(f'위치 : {f.tell()}')\n",
    "    print(hello)\n",
    "    print(\"----------------------------------------------------\")\n",
    "    f.seek(10)\n",
    "    print(f'위치 : {f.tell()}')"
   ]
  },
  {
   "cell_type": "code",
   "execution_count": 8,
   "id": "72005fe2",
   "metadata": {},
   "outputs": [
    {
     "name": "stdout",
     "output_type": "stream",
     "text": [
      "슝~\n"
     ]
    }
   ],
   "source": [
    "billboardchart = {\n",
    "  \t\t\t\t 1 : [\"Tho Box\",\"Roddy Ricch\",\"2019-12-19\"],\n",
    "                 2 : [\"Don't Start Now\", \"Dua Lipa\", \"2019-11-01\"],\n",
    "                 3 : [\"Life Is Good\", \"Future Featuring Drake\", \"2020-02-10\"],\n",
    "                 4 : [\"Blinding\", \"The Weeknd\", \"2019-11-29\"],\n",
    "                 5 : [\"Circles\", \"Post Malone\",\"2019-08-30\"]}\n",
    "\n",
    "with open(\"billboardchart.csv\",\"w\") as f:\n",
    "    for i in billboardchart.values():\n",
    "        data = \",\".join(i)\n",
    "        f.write(data+\"\\n\")\n",
    "        # print(i)\n",
    "\n",
    "print(\"슝~\")"
   ]
  },
  {
   "cell_type": "code",
   "execution_count": 9,
   "id": "ac8e447d",
   "metadata": {},
   "outputs": [
    {
     "name": "stdout",
     "output_type": "stream",
     "text": [
      "<_csv.reader object at 0x7fc781d52eb0>\n",
      "슝~\n"
     ]
    }
   ],
   "source": [
    "import csv\n",
    "\n",
    "header = [\"title\", \"singer\", \"released date\"]\n",
    "\n",
    "with open(\"billboardchart.csv\",\"r\") as inputfile:\n",
    "    with open(\"billboardchart_out.csv\",\"w\", newline='\\n') as outputfile:\n",
    "        fi = csv.reader(inputfile, delimiter=',')\n",
    "        print(fi)\n",
    "        fo = csv.writer(outputfile, delimiter=',')\n",
    "        fo.writerow(header)\n",
    "        for row in fi:\n",
    "            fo.writerow(row)\n",
    "\n",
    "print(\"슝~\")"
   ]
  },
  {
   "cell_type": "code",
   "execution_count": 12,
   "id": "cb966a62",
   "metadata": {},
   "outputs": [
    {
     "name": "stdout",
     "output_type": "stream",
     "text": [
      "슝~\n",
      "             title                  singer released date\n",
      "0          Tho Box             Roddy Ricch    2019-12-19\n",
      "1  Don't Start Now                Dua Lipa    2019-11-01\n",
      "2     Life Is Good  Future Featuring Drake    2020-02-10\n",
      "3         Blinding              The Weeknd    2019-11-29\n",
      "4          Circles             Post Malone    2019-08-30\n",
      "슝~\n"
     ]
    }
   ],
   "source": [
    "#- 1. 데이터를 준비합니다.\n",
    "fields = [\"title\", \"singer\", \"released date\"]\n",
    "rows = [ [\"Tho Box\",\"Roddy Ricch\",\"2019-12-19\"],\n",
    "               [\"Don't Start Now\", \"Dua Lipa\", \"2019-11-01\"],\n",
    "               [\"Life Is Good\", \"Future Featuring Drake\", \"2020-02-10\"],\n",
    "               [\"Blinding\", \"The Weeknd\", \"2019-11-29\"],\n",
    "               [\"Circles\", \"Post Malone\",\"2019-08-30\"]]\n",
    "\n",
    "print(\"슝~\")\n",
    "#- 2. 판다스를 이용해 데이터를 csv 파일로 저장합니다.\n",
    "import pandas as pd\n",
    "\n",
    "df=pd.DataFrame(rows, columns=fields)\n",
    "df.to_csv('pandas.csv',index=False)\n",
    "print(df)\n",
    "print(\"슝~\")"
   ]
  },
  {
   "cell_type": "code",
   "execution_count": 13,
   "id": "98b01e55",
   "metadata": {},
   "outputs": [
    {
     "name": "stdout",
     "output_type": "stream",
     "text": [
      "<Person><name>이펠</name><age>28</age><place>강남</place></Person>\n"
     ]
    }
   ],
   "source": [
    "import xml.etree.ElementTree as ET\n",
    "\n",
    "person = ET.Element(\"Person\")\n",
    "name = ET.Element(\"name\")\n",
    "name.text = \"이펠\"\n",
    "person.append(name)\n",
    "\n",
    "age = ET.Element(\"age\")\n",
    "age.text = \"28\"\n",
    "person.append(age)\n",
    "\n",
    "ET.SubElement(person, 'place').text = '강남'\n",
    "\n",
    "ET.dump(person)"
   ]
  },
  {
   "cell_type": "code",
   "execution_count": 14,
   "id": "1f3ee475",
   "metadata": {},
   "outputs": [
    {
     "name": "stdout",
     "output_type": "stream",
     "text": [
      "<Person><name>이펠</name><lastname date=\"2020-03-20\">아</lastname><age>28</age><place>강남</place></Person>\n"
     ]
    }
   ],
   "source": [
    "import xml.etree\n",
    "lastname = ET.Element('lastname', date='2020-03-20')\n",
    "lastname.text = '아'\n",
    "person.insert(1,lastname)\n",
    "ET.dump(person)"
   ]
  }
 ],
 "metadata": {
  "kernelspec": {
   "display_name": "Python 3.9.4 64-bit",
   "language": "python",
   "name": "python3"
  },
  "language_info": {
   "codemirror_mode": {
    "name": "ipython",
    "version": 3
   },
   "file_extension": ".py",
   "mimetype": "text/x-python",
   "name": "python",
   "nbconvert_exporter": "python",
   "pygments_lexer": "ipython3",
   "version": "3.9.4"
  },
  "vscode": {
   "interpreter": {
    "hash": "aee8b7b246df8f9039afb4144a1f6fd8d2ca17a180786b69acc140d282b71a49"
   }
  }
 },
 "nbformat": 4,
 "nbformat_minor": 5
}
