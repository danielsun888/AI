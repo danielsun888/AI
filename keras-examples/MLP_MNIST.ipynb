{
 "cells": [
  {
   "cell_type": "code",
   "execution_count": 1,
   "metadata": {},
   "outputs": [],
   "source": [
    "from matplotlib import pyplot as plt\n",
    "%matplotlib inline\n",
    "\n",
    "import numpy as np\n",
    "np.random.seed(13)\n",
    "\n",
    "from keras import backend as K\n",
    "from keras.models import Sequential\n",
    "from keras.datasets import mnist\n",
    "from keras.layers import Dense, Activation, Dropout\n",
    "from keras.utils import np_utils"
   ]
  },
  {
   "cell_type": "code",
   "execution_count": 2,
   "metadata": {},
   "outputs": [],
   "source": [
    "(x_train, y_train), (x_test, y_test) = mnist.load_data()\n",
    "\n",
    "num_classes = 10 # class size\n",
    "input_unit_size = 28*28 # input vector size"
   ]
  },
  {
   "cell_type": "code",
   "execution_count": 3,
   "metadata": {},
   "outputs": [],
   "source": [
    "x_train = x_train.reshape(x_train.shape[0], input_unit_size)\n",
    "x_test  = x_test.reshape(x_test.shape[0], input_unit_size)\n",
    "x_train = x_train.astype('float32')\n",
    "x_test  = x_test.astype('float32')\n",
    "x_train /= 255\n",
    "x_test  /= 255\n",
    "\n",
    "# one-hot representation\n",
    "y_train = np_utils.to_categorical(y_train, num_classes)\n",
    "y_test = np_utils.to_categorical(y_test, num_classes)"
   ]
  },
  {
   "cell_type": "code",
   "execution_count": 4,
   "metadata": {},
   "outputs": [
    {
     "name": "stderr",
     "output_type": "stream",
     "text": [
      "2022-07-13 18:03:43.944908: I tensorflow/core/platform/cpu_feature_guard.cc:193] This TensorFlow binary is optimized with oneAPI Deep Neural Network Library (oneDNN) to use the following CPU instructions in performance-critical operations:  AVX2 FMA\n",
      "To enable them in other operations, rebuild TensorFlow with the appropriate compiler flags.\n"
     ]
    }
   ],
   "source": [
    "model = Sequential()\n",
    "model.add(Dense(128, input_dim=input_unit_size, activation='relu'))\n",
    "model.add(Dropout(rate=0.2))\n",
    "model.add(Dense(num_classes, activation='softmax'))"
   ]
  },
  {
   "cell_type": "code",
   "execution_count": 5,
   "metadata": {},
   "outputs": [
    {
     "name": "stdout",
     "output_type": "stream",
     "text": [
      "Epoch 1/20\n",
      "200/200 - 1s - loss: 2.3692 - accuracy: 0.1237 - val_loss: 2.3359 - val_accuracy: 0.1437 - 1s/epoch - 7ms/step\n",
      "Epoch 2/20\n",
      "200/200 - 1s - loss: 2.3342 - accuracy: 0.1422 - val_loss: 2.2999 - val_accuracy: 0.1751 - 732ms/epoch - 4ms/step\n",
      "Epoch 3/20\n",
      "200/200 - 1s - loss: 2.2998 - accuracy: 0.1651 - val_loss: 2.2643 - val_accuracy: 0.2124 - 533ms/epoch - 3ms/step\n",
      "Epoch 4/20\n",
      "200/200 - 1s - loss: 2.2667 - accuracy: 0.1910 - val_loss: 2.2291 - val_accuracy: 0.2493 - 519ms/epoch - 3ms/step\n",
      "Epoch 5/20\n",
      "200/200 - 1s - loss: 2.2313 - accuracy: 0.2192 - val_loss: 2.1944 - val_accuracy: 0.2827 - 529ms/epoch - 3ms/step\n",
      "Epoch 6/20\n",
      "200/200 - 1s - loss: 2.1967 - accuracy: 0.2496 - val_loss: 2.1602 - val_accuracy: 0.3124 - 532ms/epoch - 3ms/step\n",
      "Epoch 7/20\n",
      "200/200 - 1s - loss: 2.1635 - accuracy: 0.2781 - val_loss: 2.1265 - val_accuracy: 0.3442 - 528ms/epoch - 3ms/step\n",
      "Epoch 8/20\n",
      "200/200 - 0s - loss: 2.1306 - accuracy: 0.3035 - val_loss: 2.0932 - val_accuracy: 0.3759 - 500ms/epoch - 2ms/step\n",
      "Epoch 9/20\n",
      "200/200 - 0s - loss: 2.1000 - accuracy: 0.3333 - val_loss: 2.0604 - val_accuracy: 0.4053 - 498ms/epoch - 2ms/step\n",
      "Epoch 10/20\n",
      "200/200 - 0s - loss: 2.0685 - accuracy: 0.3583 - val_loss: 2.0276 - val_accuracy: 0.4349 - 489ms/epoch - 2ms/step\n",
      "Epoch 11/20\n",
      "200/200 - 1s - loss: 2.0375 - accuracy: 0.3833 - val_loss: 1.9951 - val_accuracy: 0.4617 - 504ms/epoch - 3ms/step\n",
      "Epoch 12/20\n",
      "200/200 - 0s - loss: 2.0049 - accuracy: 0.4070 - val_loss: 1.9628 - val_accuracy: 0.4883 - 499ms/epoch - 2ms/step\n",
      "Epoch 13/20\n",
      "200/200 - 1s - loss: 1.9737 - accuracy: 0.4343 - val_loss: 1.9306 - val_accuracy: 0.5179 - 517ms/epoch - 3ms/step\n",
      "Epoch 14/20\n",
      "200/200 - 1s - loss: 1.9440 - accuracy: 0.4543 - val_loss: 1.8985 - val_accuracy: 0.5431 - 502ms/epoch - 3ms/step\n",
      "Epoch 15/20\n",
      "200/200 - 1s - loss: 1.9121 - accuracy: 0.4782 - val_loss: 1.8665 - val_accuracy: 0.5659 - 506ms/epoch - 3ms/step\n",
      "Epoch 16/20\n",
      "200/200 - 1s - loss: 1.8827 - accuracy: 0.4962 - val_loss: 1.8347 - val_accuracy: 0.5868 - 504ms/epoch - 3ms/step\n",
      "Epoch 17/20\n",
      "200/200 - 1s - loss: 1.8521 - accuracy: 0.5171 - val_loss: 1.8031 - val_accuracy: 0.6067 - 501ms/epoch - 3ms/step\n",
      "Epoch 18/20\n",
      "200/200 - 0s - loss: 1.8226 - accuracy: 0.5335 - val_loss: 1.7718 - val_accuracy: 0.6244 - 499ms/epoch - 2ms/step\n",
      "Epoch 19/20\n",
      "200/200 - 1s - loss: 1.7915 - accuracy: 0.5528 - val_loss: 1.7408 - val_accuracy: 0.6422 - 570ms/epoch - 3ms/step\n",
      "Epoch 20/20\n",
      "200/200 - 0s - loss: 1.7633 - accuracy: 0.5671 - val_loss: 1.7100 - val_accuracy: 0.6574 - 499ms/epoch - 2ms/step\n"
     ]
    }
   ],
   "source": [
    "model.compile(loss='categorical_crossentropy', optimizer='adadelta', metrics=['accuracy'])\n",
    "\n",
    "result = model.fit(x_train, y_train, epochs=20, batch_size=256, verbose=2,  validation_split=0.15)"
   ]
  },
  {
   "cell_type": "code",
   "execution_count": 6,
   "metadata": {},
   "outputs": [
    {
     "ename": "KeyError",
     "evalue": "'acc'",
     "output_type": "error",
     "traceback": [
      "\u001b[0;31m---------------------------------------------------------------------------\u001b[0m",
      "\u001b[0;31mKeyError\u001b[0m                                  Traceback (most recent call last)",
      "\u001b[1;32m/Users/gloria/Documents/GitHub/AI/keras-examples/MLP_MNIST.ipynb Cell 6'\u001b[0m in \u001b[0;36m<cell line: 2>\u001b[0;34m()\u001b[0m\n\u001b[1;32m      <a href='vscode-notebook-cell:/Users/gloria/Documents/GitHub/AI/keras-examples/MLP_MNIST.ipynb#ch0000005?line=0'>1</a>\u001b[0m x \u001b[39m=\u001b[39m \u001b[39mrange\u001b[39m(\u001b[39m20\u001b[39m)\n\u001b[0;32m----> <a href='vscode-notebook-cell:/Users/gloria/Documents/GitHub/AI/keras-examples/MLP_MNIST.ipynb#ch0000005?line=1'>2</a>\u001b[0m plt\u001b[39m.\u001b[39mplot(x, result\u001b[39m.\u001b[39;49mhistory[\u001b[39m'\u001b[39;49m\u001b[39macc\u001b[39;49m\u001b[39m'\u001b[39;49m], label\u001b[39m=\u001b[39m\u001b[39m'\u001b[39m\u001b[39mtrain\u001b[39m\u001b[39m'\u001b[39m)\n\u001b[1;32m      <a href='vscode-notebook-cell:/Users/gloria/Documents/GitHub/AI/keras-examples/MLP_MNIST.ipynb#ch0000005?line=2'>3</a>\u001b[0m plt\u001b[39m.\u001b[39mplot(x, result\u001b[39m.\u001b[39mhistory[\u001b[39m'\u001b[39m\u001b[39mval_acc\u001b[39m\u001b[39m'\u001b[39m], label\u001b[39m=\u001b[39m\u001b[39m'\u001b[39m\u001b[39mvalidation\u001b[39m\u001b[39m'\u001b[39m)\n\u001b[1;32m      <a href='vscode-notebook-cell:/Users/gloria/Documents/GitHub/AI/keras-examples/MLP_MNIST.ipynb#ch0000005?line=3'>4</a>\u001b[0m plt\u001b[39m.\u001b[39mtitle(\u001b[39m'\u001b[39m\u001b[39mAccuracy\u001b[39m\u001b[39m'\u001b[39m)\n",
      "\u001b[0;31mKeyError\u001b[0m: 'acc'"
     ]
    }
   ],
   "source": [
    "x = range(20)\n",
    "plt.plot(x, result.history['acc'], label='train')\n",
    "plt.plot(x, result.history['val_acc'], label='validation')\n",
    "plt.title('Accuracy')\n",
    "plt.legend(loc='center left', bbox_to_anchor=(1, 0.5))\n",
    "plt.show()\n",
    "\n",
    "plt.plot(x, result.history['loss'], label='train')\n",
    "plt.plot(x, result.history['val_loss'], label='validation')\n",
    "plt.title('Loss')\n",
    "plt.legend(loc='center left', bbox_to_anchor=(1, 0.5))"
   ]
  },
  {
   "cell_type": "code",
   "execution_count": null,
   "metadata": {
    "collapsed": true
   },
   "outputs": [],
   "source": []
  }
 ],
 "metadata": {
  "kernelspec": {
   "display_name": "Python 3.10.1 64-bit",
   "language": "python",
   "name": "python3"
  },
  "language_info": {
   "codemirror_mode": {
    "name": "ipython",
    "version": 3
   },
   "file_extension": ".py",
   "mimetype": "text/x-python",
   "name": "python",
   "nbconvert_exporter": "python",
   "pygments_lexer": "ipython3",
   "version": "3.10.1"
  },
  "vscode": {
   "interpreter": {
    "hash": "aee8b7b246df8f9039afb4144a1f6fd8d2ca17a180786b69acc140d282b71a49"
   }
  }
 },
 "nbformat": 4,
 "nbformat_minor": 1
}
