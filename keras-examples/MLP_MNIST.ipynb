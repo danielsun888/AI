{
 "cells": [
  {
   "cell_type": "code",
   "execution_count": 7,
   "metadata": {},
   "outputs": [],
   "source": [
    "from matplotlib import pyplot as plt\n",
    "%matplotlib inline\n",
    "\n",
    "import numpy as np\n",
    "np.random.seed(13)\n",
    "\n",
    "from keras import backend as K\n",
    "from keras.models import Sequential\n",
    "from keras.datasets import mnist\n",
    "from keras.layers import Dense, Activation, Dropout\n",
    "from keras.utils import np_utils"
   ]
  },
  {
   "cell_type": "code",
   "execution_count": 8,
   "metadata": {},
   "outputs": [
    {
     "name": "stdout",
     "output_type": "stream",
     "text": [
      "Downloading data from https://storage.googleapis.com/tensorflow/tf-keras-datasets/mnist.npz\n",
      "11490434/11490434 [==============================] - 0s 0us/step\n"
     ]
    }
   ],
   "source": [
    "(x_train, y_train), (x_test, y_test) = mnist.load_data()\n",
    "\n",
    "num_classes = 10 # class size\n",
    "input_unit_size = 28*28 # input vector size"
   ]
  },
  {
   "cell_type": "code",
   "execution_count": 9,
   "metadata": {},
   "outputs": [],
   "source": [
    "x_train = x_train.reshape(x_train.shape[0], input_unit_size)\n",
    "x_test  = x_test.reshape(x_test.shape[0], input_unit_size)\n",
    "x_train = x_train.astype('float32')\n",
    "x_test  = x_test.astype('float32')\n",
    "x_train /= 255\n",
    "x_test  /= 255\n",
    "\n",
    "# one-hot representation\n",
    "y_train = np_utils.to_categorical(y_train, num_classes)\n",
    "y_test = np_utils.to_categorical(y_test, num_classes)"
   ]
  },
  {
   "cell_type": "code",
   "execution_count": 10,
   "metadata": {},
   "outputs": [],
   "source": [
    "model = Sequential()\n",
    "model.add(Dense(128, input_dim=input_unit_size, activation='relu'))\n",
    "model.add(Dropout(rate=0.2))\n",
    "model.add(Dense(num_classes, activation='softmax'))"
   ]
  },
  {
   "cell_type": "code",
   "execution_count": 14,
   "metadata": {},
   "outputs": [
    {
     "name": "stdout",
     "output_type": "stream",
     "text": [
      "Epoch 1/20\n",
      "200/200 - 2s - loss: 1.6978 - accuracy: 0.5408 - val_loss: 1.6361 - val_accuracy: 0.6414 - 2s/epoch - 11ms/step\n",
      "Epoch 2/20\n",
      "200/200 - 1s - loss: 1.6739 - accuracy: 0.5543 - val_loss: 1.6089 - val_accuracy: 0.6549 - 1s/epoch - 5ms/step\n",
      "Epoch 3/20\n",
      "200/200 - 1s - loss: 1.6474 - accuracy: 0.5677 - val_loss: 1.5815 - val_accuracy: 0.6673 - 1s/epoch - 7ms/step\n",
      "Epoch 4/20\n",
      "200/200 - 1s - loss: 1.6213 - accuracy: 0.5825 - val_loss: 1.5539 - val_accuracy: 0.6804 - 1s/epoch - 5ms/step\n",
      "Epoch 5/20\n",
      "200/200 - 1s - loss: 1.5962 - accuracy: 0.5945 - val_loss: 1.5264 - val_accuracy: 0.6907 - 1s/epoch - 7ms/step\n",
      "Epoch 6/20\n",
      "200/200 - 1s - loss: 1.5686 - accuracy: 0.6085 - val_loss: 1.4992 - val_accuracy: 0.7006 - 1s/epoch - 5ms/step\n",
      "Epoch 7/20\n",
      "200/200 - 2s - loss: 1.5435 - accuracy: 0.6209 - val_loss: 1.4722 - val_accuracy: 0.7096 - 2s/epoch - 8ms/step\n",
      "Epoch 8/20\n",
      "200/200 - 1s - loss: 1.5190 - accuracy: 0.6290 - val_loss: 1.4458 - val_accuracy: 0.7216 - 1s/epoch - 6ms/step\n",
      "Epoch 9/20\n",
      "200/200 - 1s - loss: 1.4937 - accuracy: 0.6407 - val_loss: 1.4199 - val_accuracy: 0.7302 - 1s/epoch - 5ms/step\n",
      "Epoch 10/20\n",
      "200/200 - 1s - loss: 1.4707 - accuracy: 0.6456 - val_loss: 1.3944 - val_accuracy: 0.7381 - 1s/epoch - 6ms/step\n",
      "Epoch 11/20\n",
      "200/200 - 1s - loss: 1.4453 - accuracy: 0.6575 - val_loss: 1.3695 - val_accuracy: 0.7448 - 1s/epoch - 5ms/step\n",
      "Epoch 12/20\n",
      "200/200 - 2s - loss: 1.4225 - accuracy: 0.6641 - val_loss: 1.3450 - val_accuracy: 0.7530 - 2s/epoch - 9ms/step\n",
      "Epoch 13/20\n",
      "200/200 - 1s - loss: 1.3981 - accuracy: 0.6747 - val_loss: 1.3212 - val_accuracy: 0.7576 - 1s/epoch - 7ms/step\n",
      "Epoch 14/20\n",
      "200/200 - 1s - loss: 1.3765 - accuracy: 0.6814 - val_loss: 1.2979 - val_accuracy: 0.7654 - 1s/epoch - 5ms/step\n",
      "Epoch 15/20\n",
      "200/200 - 1s - loss: 1.3552 - accuracy: 0.6888 - val_loss: 1.2752 - val_accuracy: 0.7707 - 1s/epoch - 7ms/step\n",
      "Epoch 16/20\n",
      "200/200 - 1s - loss: 1.3357 - accuracy: 0.6906 - val_loss: 1.2530 - val_accuracy: 0.7753 - 1s/epoch - 6ms/step\n",
      "Epoch 17/20\n",
      "200/200 - 1s - loss: 1.3159 - accuracy: 0.6982 - val_loss: 1.2315 - val_accuracy: 0.7794 - 1s/epoch - 5ms/step\n",
      "Epoch 18/20\n",
      "200/200 - 1s - loss: 1.2947 - accuracy: 0.7025 - val_loss: 1.2104 - val_accuracy: 0.7833 - 1s/epoch - 5ms/step\n",
      "Epoch 19/20\n",
      "200/200 - 1s - loss: 1.2750 - accuracy: 0.7070 - val_loss: 1.1900 - val_accuracy: 0.7884 - 1s/epoch - 5ms/step\n",
      "Epoch 20/20\n",
      "200/200 - 2s - loss: 1.2537 - accuracy: 0.7147 - val_loss: 1.1701 - val_accuracy: 0.7911 - 2s/epoch - 9ms/step\n"
     ]
    },
    {
     "data": {
      "text/plain": [
       "{'loss': [1.6978273391723633,\n",
       "  1.6739457845687866,\n",
       "  1.6474366188049316,\n",
       "  1.6212729215621948,\n",
       "  1.5962072610855103,\n",
       "  1.568576693534851,\n",
       "  1.5435398817062378,\n",
       "  1.5189563035964966,\n",
       "  1.493738055229187,\n",
       "  1.4707462787628174,\n",
       "  1.445316195487976,\n",
       "  1.4225064516067505,\n",
       "  1.3981496095657349,\n",
       "  1.3765125274658203,\n",
       "  1.3551651239395142,\n",
       "  1.3357127904891968,\n",
       "  1.3159270286560059,\n",
       "  1.2946618795394897,\n",
       "  1.2750319242477417,\n",
       "  1.2537022829055786],\n",
       " 'accuracy': [0.5408235192298889,\n",
       "  0.5542548894882202,\n",
       "  0.5677254796028137,\n",
       "  0.5824902057647705,\n",
       "  0.5945097804069519,\n",
       "  0.6085097789764404,\n",
       "  0.6208627223968506,\n",
       "  0.6289607882499695,\n",
       "  0.6407451033592224,\n",
       "  0.6455686092376709,\n",
       "  0.6574509739875793,\n",
       "  0.664078414440155,\n",
       "  0.6746862530708313,\n",
       "  0.6814313530921936,\n",
       "  0.6888039112091064,\n",
       "  0.6905686259269714,\n",
       "  0.6981960535049438,\n",
       "  0.7025098204612732,\n",
       "  0.7069804072380066,\n",
       "  0.7147451043128967],\n",
       " 'val_loss': [1.636106014251709,\n",
       "  1.608949065208435,\n",
       "  1.5814675092697144,\n",
       "  1.5538787841796875,\n",
       "  1.5263922214508057,\n",
       "  1.4991625547409058,\n",
       "  1.4722492694854736,\n",
       "  1.4458421468734741,\n",
       "  1.4198613166809082,\n",
       "  1.3944090604782104,\n",
       "  1.3694510459899902,\n",
       "  1.345043420791626,\n",
       "  1.321214199066162,\n",
       "  1.2979092597961426,\n",
       "  1.2751539945602417,\n",
       "  1.253017783164978,\n",
       "  1.231477975845337,\n",
       "  1.2104408740997314,\n",
       "  1.1900285482406616,\n",
       "  1.170125961303711],\n",
       " 'val_accuracy': [0.6414444446563721,\n",
       "  0.6548888683319092,\n",
       "  0.6673333048820496,\n",
       "  0.6804444193840027,\n",
       "  0.690666675567627,\n",
       "  0.7005555629730225,\n",
       "  0.7095555663108826,\n",
       "  0.7215555310249329,\n",
       "  0.730222225189209,\n",
       "  0.738111138343811,\n",
       "  0.7447777986526489,\n",
       "  0.753000020980835,\n",
       "  0.7575555443763733,\n",
       "  0.7654444575309753,\n",
       "  0.7706666588783264,\n",
       "  0.7753333449363708,\n",
       "  0.7794444561004639,\n",
       "  0.7833333611488342,\n",
       "  0.788444459438324,\n",
       "  0.7911111116409302]}"
      ]
     },
     "execution_count": 14,
     "metadata": {},
     "output_type": "execute_result"
    }
   ],
   "source": [
    "model.compile(loss='categorical_crossentropy', optimizer='adadelta', metrics=['accuracy'])\n",
    "\n",
    "result = model.fit(x_train, y_train, epochs=20, batch_size=256, verbose=2,  validation_split=0.15)\n",
    "result.history"
   ]
  },
  {
   "cell_type": "code",
   "execution_count": 13,
   "metadata": {},
   "outputs": [
    {
     "ename": "KeyError",
     "evalue": "'acc'",
     "output_type": "error",
     "traceback": [
      "\u001b[0;31m---------------------------------------------------------------------------\u001b[0m",
      "\u001b[0;31mKeyError\u001b[0m                                  Traceback (most recent call last)",
      "\u001b[0;32m<ipython-input-13-6b6b6652c5a5>\u001b[0m in \u001b[0;36m<module>\u001b[0;34m\u001b[0m\n\u001b[1;32m      1\u001b[0m \u001b[0;32mimport\u001b[0m \u001b[0mmatplotlib\u001b[0m\u001b[0;34m.\u001b[0m\u001b[0mpyplot\u001b[0m \u001b[0;32mas\u001b[0m \u001b[0mplt\u001b[0m\u001b[0;34m\u001b[0m\u001b[0;34m\u001b[0m\u001b[0m\n\u001b[1;32m      2\u001b[0m \u001b[0mx\u001b[0m \u001b[0;34m=\u001b[0m \u001b[0mrange\u001b[0m\u001b[0;34m(\u001b[0m\u001b[0;36m20\u001b[0m\u001b[0;34m)\u001b[0m\u001b[0;34m\u001b[0m\u001b[0;34m\u001b[0m\u001b[0m\n\u001b[0;32m----> 3\u001b[0;31m \u001b[0mplt\u001b[0m\u001b[0;34m.\u001b[0m\u001b[0mplot\u001b[0m\u001b[0;34m(\u001b[0m\u001b[0mx\u001b[0m\u001b[0;34m,\u001b[0m \u001b[0mresult\u001b[0m\u001b[0;34m.\u001b[0m\u001b[0mhistory\u001b[0m\u001b[0;34m[\u001b[0m\u001b[0;34m'acc'\u001b[0m\u001b[0;34m]\u001b[0m\u001b[0;34m,\u001b[0m \u001b[0mlabel\u001b[0m\u001b[0;34m=\u001b[0m\u001b[0;34m'train'\u001b[0m\u001b[0;34m)\u001b[0m\u001b[0;34m\u001b[0m\u001b[0;34m\u001b[0m\u001b[0m\n\u001b[0m\u001b[1;32m      4\u001b[0m \u001b[0mplt\u001b[0m\u001b[0;34m.\u001b[0m\u001b[0mplot\u001b[0m\u001b[0;34m(\u001b[0m\u001b[0mx\u001b[0m\u001b[0;34m,\u001b[0m \u001b[0mresult\u001b[0m\u001b[0;34m.\u001b[0m\u001b[0mhistory\u001b[0m\u001b[0;34m[\u001b[0m\u001b[0;34m'val_acc'\u001b[0m\u001b[0;34m]\u001b[0m\u001b[0;34m,\u001b[0m \u001b[0mlabel\u001b[0m\u001b[0;34m=\u001b[0m\u001b[0;34m'validation'\u001b[0m\u001b[0;34m)\u001b[0m\u001b[0;34m\u001b[0m\u001b[0;34m\u001b[0m\u001b[0m\n\u001b[1;32m      5\u001b[0m \u001b[0;34m\u001b[0m\u001b[0m\n",
      "\u001b[0;31mKeyError\u001b[0m: 'acc'"
     ]
    }
   ],
   "source": [
    "import matplotlib.pyplot as plt\n",
    "x = range(20)\n",
    "plt.plot(x, result.history['acc'], label='train')\n",
    "plt.plot(x, result.history['val_acc'], label='validation')\n",
    "\n",
    "plt.title('Accuracy')\n",
    "plt.legend(loc='center left', bbox_to_anchor=(1, 0.5))\n",
    "plt.show()\n",
    "\n",
    "plt.plot(x, result.history['loss'], label='train')\n",
    "plt.plot(x, result.history['val_loss'], label='validation')\n",
    "plt.title('Loss')\n",
    "plt.legend(loc='center left', bbox_to_anchor=(1, 0.5))"
   ]
  },
  {
   "cell_type": "code",
   "execution_count": null,
   "metadata": {
    "collapsed": true
   },
   "outputs": [],
   "source": []
  }
 ],
 "metadata": {
  "kernelspec": {
   "display_name": "Python 3.9.4 64-bit",
   "language": "python",
   "name": "python3"
  },
  "language_info": {
   "codemirror_mode": {
    "name": "ipython",
    "version": 3
   },
   "file_extension": ".py",
   "mimetype": "text/x-python",
   "name": "python",
   "nbconvert_exporter": "python",
   "pygments_lexer": "ipython3",
   "version": "3.9.4"
  },
  "vscode": {
   "interpreter": {
    "hash": "aee8b7b246df8f9039afb4144a1f6fd8d2ca17a180786b69acc140d282b71a49"
   }
  }
 },
 "nbformat": 4,
 "nbformat_minor": 1
}
