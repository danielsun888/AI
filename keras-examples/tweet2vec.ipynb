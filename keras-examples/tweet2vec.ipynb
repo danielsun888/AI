{
 "cells": [
  {
   "cell_type": "code",
   "execution_count": 1,
   "metadata": {
    "collapsed": false
   },
   "outputs": [
    {
     "name": "stderr",
     "output_type": "stream",
     "text": [
      "Using Theano backend.\n"
     ]
    }
   ],
   "source": [
    "import numpy as np\n",
    "np.random.seed(13)\n",
    "\n",
    "from keras.models import Model\n",
    "from keras.layers import Dense, Embedding, GRU, Input, Bidirectional\n",
    "from keras.preprocessing.text import Tokenizer, base_filter\n",
    "from keras.preprocessing import sequence\n",
    "from keras.regularizers import l2\n",
    "from keras.utils import np_utils\n",
    "from keras.utils.visualize_util import model_to_dot, plot\n",
    "\n",
    "from IPython.display import SVG\n",
    "from matplotlib import pyplot as plt\n",
    "%matplotlib inline\n",
    "plt.style.use(\"ggplot\")"
   ]
  },
  {
   "cell_type": "code",
   "execution_count": 2,
   "metadata": {
    "collapsed": false
   },
   "outputs": [],
   "source": [
    "tweets = []\n",
    "labels = []\n",
    "with open(\"./data/tweets.tsv\") as f:\n",
    "    for l in f:\n",
    "        tweet, label = l.strip().split(\"\\t\")\n",
    "        tweets.append(\" \".join(list(tweet)))\n",
    "        labels.append(int(label))\n",
    "maxlen = 140\n",
    "\n",
    "tokenizer = Tokenizer(filters=\"\")\n",
    "tokenizer.fit_on_texts(tweets)\n",
    "X_train = tokenizer.texts_to_sequences(tweets)\n",
    "X_train = sequence.pad_sequences(X_train, maxlen=maxlen)\n",
    "Y_train = np_utils.to_categorical(labels, len(set(labels)))\n",
    "V = len(tokenizer.word_index) + 1"
   ]
  },
  {
   "cell_type": "code",
   "execution_count": 3,
   "metadata": {
    "collapsed": false
   },
   "outputs": [
    {
     "data": {
      "image/svg+xml": [
       "<svg height=\"296pt\" viewBox=\"0.00 0.00 361.98 296.00\" width=\"362pt\" xmlns=\"http://www.w3.org/2000/svg\" xmlns:xlink=\"http://www.w3.org/1999/xlink\">\n",
       "<g class=\"graph\" id=\"graph0\" transform=\"scale(1 1) rotate(0) translate(4 292)\">\n",
       "<title>G</title>\n",
       "<polygon fill=\"white\" points=\"-4,4 -4,-292 357.983,-292 357.983,4 -4,4\" stroke=\"none\"/>\n",
       "<!-- 4527318240 -->\n",
       "<g class=\"node\" id=\"node1\"><title>4527318240</title>\n",
       "<polygon fill=\"none\" points=\"40.4346,-243.5 40.4346,-287.5 313.549,-287.5 313.549,-243.5 40.4346,-243.5\" stroke=\"black\"/>\n",
       "<text font-family=\"Times,serif\" font-size=\"14.00\" text-anchor=\"middle\" x=\"107.333\" y=\"-261.3\">input_1 (InputLayer)</text>\n",
       "<polyline fill=\"none\" points=\"174.231,-243.5 174.231,-287.5 \" stroke=\"black\"/>\n",
       "<text font-family=\"Times,serif\" font-size=\"14.00\" text-anchor=\"middle\" x=\"202.066\" y=\"-272.3\">input:</text>\n",
       "<polyline fill=\"none\" points=\"174.231,-265.5 229.9,-265.5 \" stroke=\"black\"/>\n",
       "<text font-family=\"Times,serif\" font-size=\"14.00\" text-anchor=\"middle\" x=\"202.066\" y=\"-250.3\">output:</text>\n",
       "<polyline fill=\"none\" points=\"229.9,-243.5 229.9,-287.5 \" stroke=\"black\"/>\n",
       "<text font-family=\"Times,serif\" font-size=\"14.00\" text-anchor=\"middle\" x=\"271.725\" y=\"-272.3\">(None, 140)</text>\n",
       "<polyline fill=\"none\" points=\"229.9,-265.5 313.549,-265.5 \" stroke=\"black\"/>\n",
       "<text font-family=\"Times,serif\" font-size=\"14.00\" text-anchor=\"middle\" x=\"271.725\" y=\"-250.3\">(None, 140)</text>\n",
       "</g>\n",
       "<!-- 4527318912 -->\n",
       "<g class=\"node\" id=\"node2\"><title>4527318912</title>\n",
       "<polygon fill=\"none\" points=\"8.54492,-162.5 8.54492,-206.5 345.438,-206.5 345.438,-162.5 8.54492,-162.5\" stroke=\"black\"/>\n",
       "<text font-family=\"Times,serif\" font-size=\"14.00\" text-anchor=\"middle\" x=\"93.333\" y=\"-180.3\">embedding_1 (Embedding)</text>\n",
       "<polyline fill=\"none\" points=\"178.121,-162.5 178.121,-206.5 \" stroke=\"black\"/>\n",
       "<text font-family=\"Times,serif\" font-size=\"14.00\" text-anchor=\"middle\" x=\"205.956\" y=\"-191.3\">input:</text>\n",
       "<polyline fill=\"none\" points=\"178.121,-184.5 233.79,-184.5 \" stroke=\"black\"/>\n",
       "<text font-family=\"Times,serif\" font-size=\"14.00\" text-anchor=\"middle\" x=\"205.956\" y=\"-169.3\">output:</text>\n",
       "<polyline fill=\"none\" points=\"233.79,-162.5 233.79,-206.5 \" stroke=\"black\"/>\n",
       "<text font-family=\"Times,serif\" font-size=\"14.00\" text-anchor=\"middle\" x=\"289.614\" y=\"-191.3\">(None, 140)</text>\n",
       "<polyline fill=\"none\" points=\"233.79,-184.5 345.438,-184.5 \" stroke=\"black\"/>\n",
       "<text font-family=\"Times,serif\" font-size=\"14.00\" text-anchor=\"middle\" x=\"289.614\" y=\"-169.3\">(None, 140, 128)</text>\n",
       "</g>\n",
       "<!-- 4527318240&#45;&gt;4527318912 -->\n",
       "<g class=\"edge\" id=\"edge1\"><title>4527318240-&gt;4527318912</title>\n",
       "<path d=\"M176.992,-243.329C176.992,-235.183 176.992,-225.699 176.992,-216.797\" fill=\"none\" stroke=\"black\"/>\n",
       "<polygon fill=\"black\" points=\"180.492,-216.729 176.992,-206.729 173.492,-216.729 180.492,-216.729\" stroke=\"black\"/>\n",
       "</g>\n",
       "<!-- 4528656736 -->\n",
       "<g class=\"node\" id=\"node3\"><title>4528656736</title>\n",
       "<polygon fill=\"none\" points=\"0,-81.5 0,-125.5 353.983,-125.5 353.983,-81.5 0,-81.5\" stroke=\"black\"/>\n",
       "<text font-family=\"Times,serif\" font-size=\"14.00\" text-anchor=\"middle\" x=\"93.333\" y=\"-99.3\">bidirectional_1 (Bidirectional)</text>\n",
       "<polyline fill=\"none\" points=\"186.666,-81.5 186.666,-125.5 \" stroke=\"black\"/>\n",
       "<text font-family=\"Times,serif\" font-size=\"14.00\" text-anchor=\"middle\" x=\"214.5\" y=\"-110.3\">input:</text>\n",
       "<polyline fill=\"none\" points=\"186.666,-103.5 242.335,-103.5 \" stroke=\"black\"/>\n",
       "<text font-family=\"Times,serif\" font-size=\"14.00\" text-anchor=\"middle\" x=\"214.5\" y=\"-88.3\">output:</text>\n",
       "<polyline fill=\"none\" points=\"242.335,-81.5 242.335,-125.5 \" stroke=\"black\"/>\n",
       "<text font-family=\"Times,serif\" font-size=\"14.00\" text-anchor=\"middle\" x=\"298.159\" y=\"-110.3\">(None, 140, 128)</text>\n",
       "<polyline fill=\"none\" points=\"242.335,-103.5 353.983,-103.5 \" stroke=\"black\"/>\n",
       "<text font-family=\"Times,serif\" font-size=\"14.00\" text-anchor=\"middle\" x=\"298.159\" y=\"-88.3\">(None, 128)</text>\n",
       "</g>\n",
       "<!-- 4527318912&#45;&gt;4528656736 -->\n",
       "<g class=\"edge\" id=\"edge2\"><title>4527318912-&gt;4528656736</title>\n",
       "<path d=\"M176.992,-162.329C176.992,-154.183 176.992,-144.699 176.992,-135.797\" fill=\"none\" stroke=\"black\"/>\n",
       "<polygon fill=\"black\" points=\"180.492,-135.729 176.992,-125.729 173.492,-135.729 180.492,-135.729\" stroke=\"black\"/>\n",
       "</g>\n",
       "<!-- 4533302888 -->\n",
       "<g class=\"node\" id=\"node4\"><title>4533302888</title>\n",
       "<polygon fill=\"none\" points=\"52.4897,-0.5 52.4897,-44.5 301.494,-44.5 301.494,-0.5 52.4897,-0.5\" stroke=\"black\"/>\n",
       "<text font-family=\"Times,serif\" font-size=\"14.00\" text-anchor=\"middle\" x=\"107.333\" y=\"-18.3\">dense_1 (Dense)</text>\n",
       "<polyline fill=\"none\" points=\"162.176,-0.5 162.176,-44.5 \" stroke=\"black\"/>\n",
       "<text font-family=\"Times,serif\" font-size=\"14.00\" text-anchor=\"middle\" x=\"190.011\" y=\"-29.3\">input:</text>\n",
       "<polyline fill=\"none\" points=\"162.176,-22.5 217.845,-22.5 \" stroke=\"black\"/>\n",
       "<text font-family=\"Times,serif\" font-size=\"14.00\" text-anchor=\"middle\" x=\"190.011\" y=\"-7.3\">output:</text>\n",
       "<polyline fill=\"none\" points=\"217.845,-0.5 217.845,-44.5 \" stroke=\"black\"/>\n",
       "<text font-family=\"Times,serif\" font-size=\"14.00\" text-anchor=\"middle\" x=\"259.669\" y=\"-29.3\">(None, 128)</text>\n",
       "<polyline fill=\"none\" points=\"217.845,-22.5 301.494,-22.5 \" stroke=\"black\"/>\n",
       "<text font-family=\"Times,serif\" font-size=\"14.00\" text-anchor=\"middle\" x=\"259.669\" y=\"-7.3\">(None, 30)</text>\n",
       "</g>\n",
       "<!-- 4528656736&#45;&gt;4533302888 -->\n",
       "<g class=\"edge\" id=\"edge3\"><title>4528656736-&gt;4533302888</title>\n",
       "<path d=\"M176.992,-81.3294C176.992,-73.1826 176.992,-63.6991 176.992,-54.7971\" fill=\"none\" stroke=\"black\"/>\n",
       "<polygon fill=\"black\" points=\"180.492,-54.729 176.992,-44.729 173.492,-54.729 180.492,-54.729\" stroke=\"black\"/>\n",
       "</g>\n",
       "</g>\n",
       "</svg>"
      ],
      "text/plain": [
       "<IPython.core.display.SVG object>"
      ]
     },
     "execution_count": 3,
     "metadata": {},
     "output_type": "execute_result"
    }
   ],
   "source": [
    "l2_coef = 0.001\n",
    "tweet = Input(shape=(maxlen,), dtype='int32')\n",
    "x = Embedding(V, 128, input_length=maxlen, W_regularizer=l2(l=l2_coef))(tweet)\n",
    "x = Bidirectional(layer=GRU(128, return_sequences=False, \n",
    "                            W_regularizer=l2(l=l2_coef),\n",
    "                            b_regularizer=l2(l=l2_coef),\n",
    "                            U_regularizer=l2(l=l2_coef)),\n",
    "                  merge_mode='sum')(x)\n",
    "x = Dense(len(set(labels)), W_regularizer=l2(l=l2_coef), activation=\"softmax\")(x)\n",
    "\n",
    "tweet2vec = Model(input=tweet, output=x)\n",
    "\n",
    "tweet2vec.compile(loss='categorical_crossentropy',\n",
    "                  optimizer='RMSprop',\n",
    "                  metrics=['accuracy'])\n",
    "\n",
    "SVG(model_to_dot(tweet2vec, show_shapes=True).create(prog='dot', format='svg'))"
   ]
  },
  {
   "cell_type": "code",
   "execution_count": 4,
   "metadata": {
    "collapsed": false
   },
   "outputs": [
    {
     "name": "stdout",
     "output_type": "stream",
     "text": [
      "Train on 337 samples, validate on 38 samples\n",
      "Epoch 1/10\n",
      "337/337 [==============================] - 4s - loss: 4.9169 - acc: 0.0801 - val_loss: 3.3234 - val_acc: 0.0000e+00\n",
      "Epoch 2/10\n",
      "337/337 [==============================] - 4s - loss: 4.5289 - acc: 0.1128 - val_loss: 3.2595 - val_acc: 0.1579\n",
      "Epoch 3/10\n",
      "337/337 [==============================] - 4s - loss: 4.2693 - acc: 0.1395 - val_loss: 3.3700 - val_acc: 0.0263\n",
      "Epoch 4/10\n",
      "337/337 [==============================] - 4s - loss: 3.9784 - acc: 0.1840 - val_loss: 3.1396 - val_acc: 0.1053\n",
      "Epoch 5/10\n",
      "337/337 [==============================] - 4s - loss: 3.8037 - acc: 0.1869 - val_loss: 3.0821 - val_acc: 0.1316\n",
      "Epoch 6/10\n",
      "337/337 [==============================] - 4s - loss: 3.5660 - acc: 0.2077 - val_loss: 3.2558 - val_acc: 0.0526\n",
      "Epoch 7/10\n",
      "337/337 [==============================] - 4s - loss: 3.4063 - acc: 0.2136 - val_loss: 3.1829 - val_acc: 0.0789\n",
      "Epoch 8/10\n",
      "337/337 [==============================] - 4s - loss: 3.2654 - acc: 0.2285 - val_loss: 3.0673 - val_acc: 0.2632\n",
      "Epoch 9/10\n",
      "337/337 [==============================] - 4s - loss: 3.1598 - acc: 0.2404 - val_loss: 3.0849 - val_acc: 0.1053\n",
      "Epoch 10/10\n",
      "337/337 [==============================] - 4s - loss: 3.0486 - acc: 0.2285 - val_loss: 3.1975 - val_acc: 0.0526\n"
     ]
    },
    {
     "data": {
      "text/plain": [
       "<keras.callbacks.History at 0x1165887f0>"
      ]
     },
     "execution_count": 4,
     "metadata": {},
     "output_type": "execute_result"
    }
   ],
   "source": [
    "tweet2vec.fit(X_train, Y_train, nb_epoch=10, batch_size=32, validation_split=0.1)"
   ]
  },
  {
   "cell_type": "markdown",
   "metadata": {
    "collapsed": true
   },
   "source": [
    "## ref http://arxiv.org/abs/1605.03481"
   ]
  },
  {
   "cell_type": "code",
   "execution_count": null,
   "metadata": {
    "collapsed": true
   },
   "outputs": [],
   "source": []
  }
 ],
 "metadata": {
  "anaconda-cloud": {},
  "kernelspec": {
   "display_name": "Python [Root]",
   "language": "python",
   "name": "Python [Root]"
  },
  "language_info": {
   "codemirror_mode": {
    "name": "ipython",
    "version": 3
   },
   "file_extension": ".py",
   "mimetype": "text/x-python",
   "name": "python",
   "nbconvert_exporter": "python",
   "pygments_lexer": "ipython3",
   "version": "3.5.2"
  }
 },
 "nbformat": 4,
 "nbformat_minor": 0
}
