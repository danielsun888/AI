{
 "cells": [
  {
   "cell_type": "code",
   "execution_count": 1,
   "metadata": {},
   "outputs": [
    {
     "name": "stderr",
     "output_type": "stream",
     "text": [
      "Using TensorFlow backend.\n"
     ]
    }
   ],
   "source": [
    "'''This example demonstrates the use of fast text in https://arxiv.org/abs/1607.01759.\n",
    "NOTE: not using hieraltical softmax and bi-gram features\n",
    "# Gets to 0.88 validation accuracy after 6 epochs. (equal CNN in Keras example: https://github.com/fchollet/keras/blob/master/examples/imdb_cnn.py)\n",
    "2s/epoch on Tesla K40 GPU.\n",
    "'''\n",
    " \n",
    "import numpy as np\n",
    "np.random.seed(1337)\n",
    "\n",
    "from keras.preprocessing import sequence\n",
    "from keras.models import Sequential\n",
    "from keras.layers import Dense, Embedding, GlobalAveragePooling1D\n",
    "from keras.datasets import imdb"
   ]
  },
  {
   "cell_type": "code",
   "execution_count": 2,
   "metadata": {},
   "outputs": [
    {
     "name": "stdout",
     "output_type": "stream",
     "text": [
      "Downloading data from https://s3.amazonaws.com/text-datasets/imdb.npz\n",
      "25000 train sequences\n",
      "25000 test sequences\n"
     ]
    }
   ],
   "source": [
    "max_features = 5000\n",
    "maxlen = 400\n",
    "batch_size = 32\n",
    "embedding_dims = 20\n",
    "\n",
    "(x_train, y_train), (x_test, y_test) = imdb.load_data(num_words=max_features)\n",
    "\n",
    "print(len(x_train), 'train sequences')\n",
    "print(len(x_test), 'test sequences')\n",
    "\n",
    "x_train = sequence.pad_sequences(x_train, maxlen=maxlen)\n",
    "x_test = sequence.pad_sequences(x_test, maxlen=maxlen)"
   ]
  },
  {
   "cell_type": "code",
   "execution_count": 3,
   "metadata": {},
   "outputs": [
    {
     "name": "stdout",
     "output_type": "stream",
     "text": [
      "Train on 25000 samples, validate on 25000 samples\n",
      "Epoch 1/10\n",
      "25000/25000 [==============================] - 5s - loss: 0.6487 - acc: 0.7037 - val_loss: 0.5834 - val_acc: 0.7532\n",
      "Epoch 2/10\n",
      "25000/25000 [==============================] - 2s - loss: 0.5036 - acc: 0.8239 - val_loss: 0.4514 - val_acc: 0.8446\n",
      "Epoch 3/10\n",
      "25000/25000 [==============================] - 2s - loss: 0.3976 - acc: 0.8644 - val_loss: 0.3802 - val_acc: 0.8629\n",
      "Epoch 4/10\n",
      "25000/25000 [==============================] - 2s - loss: 0.3395 - acc: 0.8788 - val_loss: 0.3408 - val_acc: 0.8712\n",
      "Epoch 5/10\n",
      "25000/25000 [==============================] - 2s - loss: 0.3044 - acc: 0.8885 - val_loss: 0.3204 - val_acc: 0.8759\n",
      "Epoch 6/10\n",
      "25000/25000 [==============================] - 2s - loss: 0.2809 - acc: 0.8957 - val_loss: 0.3039 - val_acc: 0.8802\n",
      "Epoch 7/10\n",
      "25000/25000 [==============================] - 2s - loss: 0.2633 - acc: 0.9024 - val_loss: 0.2943 - val_acc: 0.8842\n",
      "Epoch 8/10\n",
      "25000/25000 [==============================] - 2s - loss: 0.2493 - acc: 0.9078 - val_loss: 0.2876 - val_acc: 0.8868\n",
      "Epoch 9/10\n",
      "25000/25000 [==============================] - 2s - loss: 0.2377 - acc: 0.9114 - val_loss: 0.2848 - val_acc: 0.8856\n",
      "Epoch 10/10\n",
      "25000/25000 [==============================] - 2s - loss: 0.2281 - acc: 0.9156 - val_loss: 0.2820 - val_acc: 0.8866\n"
     ]
    },
    {
     "data": {
      "text/plain": [
       "<keras.callbacks.History at 0x7f1111f56438>"
      ]
     },
     "execution_count": 3,
     "metadata": {},
     "output_type": "execute_result"
    }
   ],
   "source": [
    "model = Sequential()\n",
    "model.add(Embedding(input_dim=5000, output_dim=embedding_dims))\n",
    "model.add(GlobalAveragePooling1D())\n",
    "model.add(Dense(1, activation='sigmoid'))\n",
    "\n",
    "model.compile(loss='binary_crossentropy',\n",
    "              optimizer='adam',\n",
    "              metrics=['accuracy'])\n",
    "\n",
    "model.fit(x_train, y_train,\n",
    "          batch_size=batch_size,\n",
    "          validation_data=(x_test, y_test))"
   ]
  },
  {
   "cell_type": "code",
   "execution_count": 4,
   "metadata": {
    "collapsed": true
   },
   "outputs": [],
   "source": []
  }
 ],
 "metadata": {
  "anaconda-cloud": {},
  "kernelspec": {
   "display_name": "Python 3",
   "language": "python",
   "name": "python3"
  },
  "language_info": {
   "codemirror_mode": {
    "name": "ipython",
    "version": 3
   },
   "file_extension": ".py",
   "mimetype": "text/x-python",
   "name": "python",
   "nbconvert_exporter": "python",
   "pygments_lexer": "ipython3",
   "version": "3.6.1"
  }
 },
 "nbformat": 4,
 "nbformat_minor": 1
}
