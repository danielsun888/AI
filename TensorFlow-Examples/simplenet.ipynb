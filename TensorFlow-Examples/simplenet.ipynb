{
 "cells": [
  {
   "cell_type": "code",
   "execution_count": 9,
   "metadata": {},
   "outputs": [],
   "source": [
    "\n",
    "import  numpy  as np\n",
    "import tensorflow as tf\n"
   ]
  },
  {
   "cell_type": "code",
   "execution_count": 26,
   "metadata": {},
   "outputs": [],
   "source": [
    "class simpleNet:\n",
    "    def __init__(self):\n",
    "        self.w=np.random.randn(2,3)\n",
    "    \n",
    "    def predict(self,x):\n",
    "        return np.dot(x,self.w)\n",
    "    def softmax(self,vector):\n",
    "        e = np.exp(vector)\n",
    "        return e / e.sum()\n",
    "\n",
    "# calculate cross entropy\n",
    "    def cross_entropy_loss(yHat, y):\n",
    "        if y == 1:\n",
    "           return -np.log(yHat)\n",
    "        else:\n",
    "           return -np.log(1 - yHat)\n",
    "\n",
    "    def loss(self,x,t):\n",
    "        z=self.predict(x)\n",
    "        y=self.softmax(z)\n",
    "        loss=self.cross_entropy_loss(y,t)\n",
    "        return loss\n",
    "        "
   ]
  },
  {
   "cell_type": "code",
   "execution_count": 20,
   "metadata": {},
   "outputs": [
    {
     "data": {
      "text/plain": [
       "array([-0.55482445, -0.01399313,  1.9795864 ])"
      ]
     },
     "execution_count": 20,
     "metadata": {},
     "output_type": "execute_result"
    }
   ],
   "source": [
    "# np.random.randn(2,3)\n",
    "net=simpleNet()\n",
    "net.w\n",
    "x=np.array([0.6,0.9])\n",
    "p=net.predict(x)\n",
    "p"
   ]
  },
  {
   "cell_type": "code",
   "execution_count": 27,
   "metadata": {},
   "outputs": [
    {
     "ename": "TypeError",
     "evalue": "simpleNet.cross_entropy() missing 1 required positional argument: 'q'",
     "output_type": "error",
     "traceback": [
      "\u001b[0;31m---------------------------------------------------------------------------\u001b[0m",
      "\u001b[0;31mTypeError\u001b[0m                                 Traceback (most recent call last)",
      "\u001b[1;32m/Users/gloria/Documents/GitHub/AI/TensorFlow-Examples/simplenet.ipynb Cell 4'\u001b[0m in \u001b[0;36m<cell line: 3>\u001b[0;34m()\u001b[0m\n\u001b[1;32m      <a href='vscode-notebook-cell:/Users/gloria/Documents/GitHub/AI/TensorFlow-Examples/simplenet.ipynb#ch0000003?line=0'>1</a>\u001b[0m np\u001b[39m.\u001b[39margmax(p)\n\u001b[1;32m      <a href='vscode-notebook-cell:/Users/gloria/Documents/GitHub/AI/TensorFlow-Examples/simplenet.ipynb#ch0000003?line=1'>2</a>\u001b[0m t\u001b[39m=\u001b[39mnp\u001b[39m.\u001b[39marray([\u001b[39m0\u001b[39m,\u001b[39m0\u001b[39m,\u001b[39m1\u001b[39m])\n\u001b[0;32m----> <a href='vscode-notebook-cell:/Users/gloria/Documents/GitHub/AI/TensorFlow-Examples/simplenet.ipynb#ch0000003?line=2'>3</a>\u001b[0m net\u001b[39m.\u001b[39;49mloss(x,t)\n",
      "\u001b[1;32m/Users/gloria/Documents/GitHub/AI/TensorFlow-Examples/simplenet.ipynb Cell 4'\u001b[0m in \u001b[0;36msimpleNet.loss\u001b[0;34m(self, x, t)\u001b[0m\n\u001b[1;32m     <a href='vscode-notebook-cell:/Users/gloria/Documents/GitHub/AI/TensorFlow-Examples/simplenet.ipynb#ch0000003?line=15'>16</a>\u001b[0m z\u001b[39m=\u001b[39m\u001b[39mself\u001b[39m\u001b[39m.\u001b[39mpredict(x)\n\u001b[1;32m     <a href='vscode-notebook-cell:/Users/gloria/Documents/GitHub/AI/TensorFlow-Examples/simplenet.ipynb#ch0000003?line=16'>17</a>\u001b[0m y\u001b[39m=\u001b[39m\u001b[39mself\u001b[39m\u001b[39m.\u001b[39msoftmax(z)\n\u001b[0;32m---> <a href='vscode-notebook-cell:/Users/gloria/Documents/GitHub/AI/TensorFlow-Examples/simplenet.ipynb#ch0000003?line=17'>18</a>\u001b[0m loss\u001b[39m=\u001b[39m\u001b[39mself\u001b[39;49m\u001b[39m.\u001b[39;49mcross_entropy(np\u001b[39m.\u001b[39;49msquare(y\u001b[39m-\u001b[39;49mt))\n\u001b[1;32m     <a href='vscode-notebook-cell:/Users/gloria/Documents/GitHub/AI/TensorFlow-Examples/simplenet.ipynb#ch0000003?line=18'>19</a>\u001b[0m \u001b[39mreturn\u001b[39;00m loss\n",
      "\u001b[0;31mTypeError\u001b[0m: simpleNet.cross_entropy() missing 1 required positional argument: 'q'"
     ]
    }
   ],
   "source": [
    "np.argmax(p)\n",
    "t=np.array([0,0,1])\n",
    "net.loss(x,t)"
   ]
  }
 ],
 "metadata": {
  "kernelspec": {
   "display_name": "Python 3.10.1 64-bit",
   "language": "python",
   "name": "python3"
  },
  "language_info": {
   "codemirror_mode": {
    "name": "ipython",
    "version": 3
   },
   "file_extension": ".py",
   "mimetype": "text/x-python",
   "name": "python",
   "nbconvert_exporter": "python",
   "pygments_lexer": "ipython3",
   "version": "3.10.1"
  },
  "orig_nbformat": 4,
  "vscode": {
   "interpreter": {
    "hash": "aee8b7b246df8f9039afb4144a1f6fd8d2ca17a180786b69acc140d282b71a49"
   }
  }
 },
 "nbformat": 4,
 "nbformat_minor": 2
}
